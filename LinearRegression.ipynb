{
  "nbformat": 4,
  "nbformat_minor": 0,
  "metadata": {
    "colab": {
      "provenance": [],
      "include_colab_link": true
    },
    "kernelspec": {
      "name": "python3",
      "display_name": "Python 3"
    },
    "language_info": {
      "name": "python"
    }
  },
  "cells": [
    {
      "cell_type": "markdown",
      "metadata": {
        "id": "view-in-github",
        "colab_type": "text"
      },
      "source": [
        "<a href=\"https://colab.research.google.com/github/Xfinity-bot/ML-Notebooks/blob/main/LinearRegression.ipynb\" target=\"_parent\"><img src=\"https://colab.research.google.com/assets/colab-badge.svg\" alt=\"Open In Colab\"/></a>"
      ]
    },
    {
      "cell_type": "markdown",
      "source": [
        "# **Regression**"
      ],
      "metadata": {
        "id": "0iiJGD59EHc_"
      }
    },
    {
      "cell_type": "code",
      "source": [
        "import numpy as np"
      ],
      "metadata": {
        "id": "3iPMzbRL_4SF"
      },
      "execution_count": 7,
      "outputs": []
    },
    {
      "cell_type": "code",
      "source": [
        "from IPython.lib.display import YouTubeVideo\n",
        "X = 2*np.random.rand(100,1)\n",
        "y= 4 +3*X+np.random.randn(100,1)"
      ],
      "metadata": {
        "id": "yDXBrQls_8U1"
      },
      "execution_count": 8,
      "outputs": []
    },
    {
      "cell_type": "code",
      "source": [
        "X_b = np.c_[np.ones((100,1)),X]"
      ],
      "metadata": {
        "id": "bkLMTnfAAKEG"
      },
      "execution_count": 9,
      "outputs": []
    },
    {
      "cell_type": "code",
      "source": [
        "theta_best = np.linalg.inv(X_b.T.dot(X_b)).dot(X_b.T)\n",
        "theta_best"
      ],
      "metadata": {
        "colab": {
          "base_uri": "https://localhost:8080/"
        },
        "id": "fHqOIjWqAb2Q",
        "outputId": "78e4bb97-ccb0-4fbf-bcf5-74598844942b"
      },
      "execution_count": 10,
      "outputs": [
        {
          "output_type": "execute_result",
          "data": {
            "text/plain": [
              "array([[-0.01411112,  0.032561  ,  0.03988965,  0.00619986,  0.04001504,\n",
              "        -0.00890648, -0.0001623 ,  0.04012145,  0.02582225, -0.01574816,\n",
              "         0.02770973,  0.01490617, -0.00693911, -0.01159047,  0.02726862,\n",
              "         0.02151827,  0.01374794, -0.00286635,  0.02725993,  0.02090399,\n",
              "         0.02543759,  0.02623266, -0.01507916, -0.00500333,  0.00835948,\n",
              "         0.03444621,  0.00482314, -0.00213852,  0.01903529,  0.02691842,\n",
              "         0.02548705,  0.03667254, -0.00244729,  0.02358932,  0.0036869 ,\n",
              "         0.01404408,  0.01847327,  0.0241788 ,  0.01250412,  0.02788345,\n",
              "         0.00308837,  0.02840676, -0.01454814,  0.02730898, -0.01184898,\n",
              "        -0.01466401,  0.03590759,  0.01580183,  0.04018851, -0.00900389,\n",
              "         0.02874577, -0.01065904, -0.01111681, -0.00759287,  0.00984597,\n",
              "        -0.01436368, -0.00923796, -0.01310838,  0.0259719 , -0.01272118,\n",
              "         0.01628583, -0.01051385,  0.00066348,  0.01786012,  0.02103772,\n",
              "        -0.00216747, -0.01543805, -0.00222272,  0.03614364,  0.02597169,\n",
              "         0.00976392, -0.01232147,  0.00707027, -0.00562262,  0.00616122,\n",
              "        -0.01114281,  0.03547134, -0.00622159,  0.01740667,  0.00726801,\n",
              "         0.0352136 ,  0.00684941,  0.0267803 ,  0.02958891, -0.00319562,\n",
              "        -0.00398881, -0.01569232,  0.01886088,  0.00011783, -0.01046799,\n",
              "        -0.00563458, -0.00258483,  0.03336232,  0.0195037 ,  0.01436175,\n",
              "         0.03830013,  0.01080013, -0.01201398, -0.0113442 ,  0.02462536],\n",
              "       [ 0.02235054, -0.02091361, -0.02770713,  0.00352265, -0.02782337,\n",
              "         0.01752594,  0.00942026, -0.02792201, -0.01466692,  0.02386805,\n",
              "        -0.01641658, -0.00454792,  0.01570223,  0.02001395, -0.01600767,\n",
              "        -0.01067722, -0.00347427,  0.01192686, -0.01599962, -0.01010779,\n",
              "        -0.01431035, -0.01504736,  0.0232479 ,  0.0139078 ,  0.00152073,\n",
              "        -0.02266117,  0.00479885,  0.01125217, -0.00837554, -0.01568305,\n",
              "        -0.0143562 , -0.02472493,  0.0115384 , -0.01259704,  0.00585212,\n",
              "        -0.00374878, -0.00785456, -0.01314348, -0.00232127, -0.01657762,\n",
              "         0.00640694, -0.01706271,  0.02275566, -0.01604509,  0.02025359,\n",
              "         0.02286306, -0.02401584, -0.00537819, -0.02798416,  0.01761624,\n",
              "        -0.01737697,  0.01915053,  0.01957488,  0.01630825,  0.00014278,\n",
              "         0.02258466,  0.01783322,  0.02142103, -0.01480565,  0.02106209,\n",
              "        -0.00582684,  0.01901595,  0.00865477, -0.00728618, -0.01023175,\n",
              "         0.01127901,  0.02358058,  0.01133023, -0.02423465, -0.01480545,\n",
              "         0.00021885,  0.02069157,  0.0027158 ,  0.01448187,  0.00355848,\n",
              "         0.01959898, -0.02361145,  0.0150371 , -0.00686584,  0.0025325 ,\n",
              "        -0.02337252,  0.00292054, -0.01555501, -0.01815855,  0.01223209,\n",
              "         0.01296736,  0.02381629, -0.00821387,  0.00916058,  0.01897343,\n",
              "         0.01449295,  0.01166589, -0.02165642, -0.00880974, -0.00404326,\n",
              "        -0.02623368, -0.00074171,  0.02040654,  0.01978566, -0.01355743]])"
            ]
          },
          "metadata": {},
          "execution_count": 10
        }
      ]
    },
    {
      "cell_type": "code",
      "source": [
        "X_new = np.array([[0],[2]])\n",
        "X_new_b = np.c_[np.ones((2,1)),X_new]\n",
        "y_predict = X_new_b.dot(theta_best)\n",
        "y_predict"
      ],
      "metadata": {
        "colab": {
          "base_uri": "https://localhost:8080/"
        },
        "id": "8vSLyDCvAsun",
        "outputId": "37c495d8-a802-4af0-c314-011b237ec253"
      },
      "execution_count": 11,
      "outputs": [
        {
          "output_type": "execute_result",
          "data": {
            "text/plain": [
              "array([[-0.01411112,  0.032561  ,  0.03988965,  0.00619986,  0.04001504,\n",
              "        -0.00890648, -0.0001623 ,  0.04012145,  0.02582225, -0.01574816,\n",
              "         0.02770973,  0.01490617, -0.00693911, -0.01159047,  0.02726862,\n",
              "         0.02151827,  0.01374794, -0.00286635,  0.02725993,  0.02090399,\n",
              "         0.02543759,  0.02623266, -0.01507916, -0.00500333,  0.00835948,\n",
              "         0.03444621,  0.00482314, -0.00213852,  0.01903529,  0.02691842,\n",
              "         0.02548705,  0.03667254, -0.00244729,  0.02358932,  0.0036869 ,\n",
              "         0.01404408,  0.01847327,  0.0241788 ,  0.01250412,  0.02788345,\n",
              "         0.00308837,  0.02840676, -0.01454814,  0.02730898, -0.01184898,\n",
              "        -0.01466401,  0.03590759,  0.01580183,  0.04018851, -0.00900389,\n",
              "         0.02874577, -0.01065904, -0.01111681, -0.00759287,  0.00984597,\n",
              "        -0.01436368, -0.00923796, -0.01310838,  0.0259719 , -0.01272118,\n",
              "         0.01628583, -0.01051385,  0.00066348,  0.01786012,  0.02103772,\n",
              "        -0.00216747, -0.01543805, -0.00222272,  0.03614364,  0.02597169,\n",
              "         0.00976392, -0.01232147,  0.00707027, -0.00562262,  0.00616122,\n",
              "        -0.01114281,  0.03547134, -0.00622159,  0.01740667,  0.00726801,\n",
              "         0.0352136 ,  0.00684941,  0.0267803 ,  0.02958891, -0.00319562,\n",
              "        -0.00398881, -0.01569232,  0.01886088,  0.00011783, -0.01046799,\n",
              "        -0.00563458, -0.00258483,  0.03336232,  0.0195037 ,  0.01436175,\n",
              "         0.03830013,  0.01080013, -0.01201398, -0.0113442 ,  0.02462536],\n",
              "       [ 0.03058997, -0.00926622, -0.01552461,  0.01324517, -0.01563169,\n",
              "         0.02614541,  0.01867822, -0.01572256, -0.00351159,  0.03198794,\n",
              "        -0.00512343,  0.00581032,  0.02446534,  0.02843743, -0.00474673,\n",
              "         0.00016384,  0.0067994 ,  0.02098736, -0.00473931,  0.00068841,\n",
              "        -0.00318311, -0.00386207,  0.03141664,  0.02281227,  0.01140094,\n",
              "        -0.01087612,  0.01442084,  0.02036583,  0.00228421, -0.00444768,\n",
              "        -0.00322535, -0.01277733,  0.0206295 , -0.00160475,  0.01539114,\n",
              "         0.00654651,  0.00276415, -0.00210815,  0.00786158, -0.00527178,\n",
              "         0.01590226, -0.00571866,  0.03096317, -0.0047812 ,  0.02865819,\n",
              "         0.03106211, -0.01212408,  0.00504546, -0.01577982,  0.02622859,\n",
              "        -0.00600817,  0.02764202,  0.02803295,  0.02502363,  0.01013153,\n",
              "         0.03080564,  0.02642848,  0.02973367, -0.00363939,  0.02940301,\n",
              "         0.00463215,  0.02751804,  0.01797303,  0.00328776,  0.00057421,\n",
              "         0.02039055,  0.03172311,  0.02043773, -0.01232566, -0.00363921,\n",
              "         0.01020161,  0.02906167,  0.01250187,  0.02334112,  0.01327817,\n",
              "         0.02805514, -0.01175155,  0.02385261,  0.00367499,  0.01233301,\n",
              "        -0.01153145,  0.01269048, -0.00432973, -0.00672818,  0.02126855,\n",
              "         0.0219459 ,  0.03194025,  0.00243315,  0.01843899,  0.02747887,\n",
              "         0.02335133,  0.02074696, -0.00995052,  0.00188421,  0.00627523,\n",
              "        -0.01416722,  0.00931672,  0.0287991 ,  0.02822713, -0.00248949]])"
            ]
          },
          "metadata": {},
          "execution_count": 11
        }
      ]
    },
    {
      "cell_type": "code",
      "source": [
        "import matplotlib.pyplot as plt\n",
        "plt.plot(X_new,y_predict,\"r-\")\n",
        "plt.plot(X,y,\"b.\")\n",
        "plt.axis([0,2,0,15])\n",
        "plt.show()"
      ],
      "metadata": {
        "colab": {
          "base_uri": "https://localhost:8080/",
          "height": 430
        },
        "id": "HytqYXKqBHqz",
        "outputId": "47b42538-8d96-4899-ba53-839edf445b39"
      },
      "execution_count": 12,
      "outputs": [
        {
          "output_type": "display_data",
          "data": {
            "text/plain": [
              "<Figure size 640x480 with 1 Axes>"
            ],
            "image/png": "[encoded data removed]"
          },
          "metadata": {}
        }
      ]
    },
    {
      "cell_type": "code",
      "source": [],
      "metadata": {
        "id": "Vbiy8667BwoU"
      },
      "execution_count": 12,
      "outputs": []
    },
    {
      "cell_type": "markdown",
      "source": [
        "# **SKLEARN**"
      ],
      "metadata": {
        "id": "5Cf5aDKdBzZX"
      }
    },
    {
      "cell_type": "code",
      "source": [
        "\n",
        "from sklearn.linear_model import LinearRegression\n",
        "lin_reg = LinearRegression()\n",
        "lin_reg.fit(X,y)\n",
        "lin_reg.intercept_,lin_reg.coef_"
      ],
      "metadata": {
        "id": "RGgfAx5qB7OM",
        "colab": {
          "base_uri": "https://localhost:8080/"
        },
        "outputId": "d820b8a0-512d-4842-8f5e-bd8927fc8bfd"
      },
      "execution_count": 13,
      "outputs": [
        {
          "output_type": "execute_result",
          "data": {
            "text/plain": [
              "(array([4.01480621]), array([[3.07404581]]))"
            ]
          },
          "metadata": {},
          "execution_count": 13
        }
      ]
    },
    {
      "cell_type": "code",
      "source": [
        "lin_reg.predict(X_new)"
      ],
      "metadata": {
        "id": "mDV5a-AsCQAw",
        "colab": {
          "base_uri": "https://localhost:8080/"
        },
        "outputId": "58351a73-4c4e-4432-eb73-a3ff3b85fddc"
      },
      "execution_count": 14,
      "outputs": [
        {
          "output_type": "execute_result",
          "data": {
            "text/plain": [
              "array([[ 4.01480621],\n",
              "       [10.16289783]])"
            ]
          },
          "metadata": {},
          "execution_count": 14
        }
      ]
    },
    {
      "cell_type": "code",
      "source": [
        "theta_best_svd, residuals, rank, s = np.linalg.lstsq(X_b,y,rcond=1e-6)\n",
        "theta_best_svd"
      ],
      "metadata": {
        "id": "uZWuRRyLCXdH",
        "colab": {
          "base_uri": "https://localhost:8080/"
        },
        "outputId": "1854795c-2455-4e2d-bd07-4cf4228b60b4"
      },
      "execution_count": 15,
      "outputs": [
        {
          "output_type": "execute_result",
          "data": {
            "text/plain": [
              "array([[4.01480621],\n",
              "       [3.07404581]])"
            ]
          },
          "metadata": {},
          "execution_count": 15
        }
      ]
    },
    {
      "cell_type": "markdown",
      "source": [
        "# **GRADIENT DESCENT**"
      ],
      "metadata": {
        "id": "Zh2_bYydDtf1"
      }
    },
    {
      "cell_type": "code",
      "source": [
        "np.linalg.pinv(X_b).dot(y)"
      ],
      "metadata": {
        "id": "jGH6nmnzCy7u",
        "colab": {
          "base_uri": "https://localhost:8080/"
        },
        "outputId": "87878c3b-0081-4c91-fbd1-720f8acdd080"
      },
      "execution_count": 16,
      "outputs": [
        {
          "output_type": "execute_result",
          "data": {
            "text/plain": [
              "array([[4.01480621],\n",
              "       [3.07404581]])"
            ]
          },
          "metadata": {},
          "execution_count": 16
        }
      ]
    },
    {
      "cell_type": "code",
      "source": [
        "eta = 0.1\n",
        "n_iterations = 1000\n",
        "m = 100\n",
        "\n",
        "\n",
        "theta = np.random.randn(2,1)\n",
        "for iteration in range(n_iterations):\n",
        "  gradients = 2/m * X_b.T.dot(X_b.dot(theta) - y)\n",
        "  theta = theta - eta * gradients\n",
        "  X_new = np.array([[0],[2]])\n",
        "  X_new_b = np.c_[np.ones((2,1)),X_new]\n",
        "  y_predict = X_new_b.dot(theta)\n",
        "  plt.plot(X_new,y_predict,\"r-\")\n",
        "  plt.plot(X,y,\"b.\")\n",
        "  plt.axis([0,2,0,15])\n",
        "plt.show()"
      ],
      "metadata": {
        "id": "RvnTNcwEDjgB",
        "colab": {
          "base_uri": "https://localhost:8080/",
          "height": 430
        },
        "outputId": "83b52357-c226-4943-a920-dd084d5672ac"
      },
      "execution_count": 17,
      "outputs": [
        {
          "output_type": "display_data",
          "data": {
            "text/plain": [
              "<Figure size 640x480 with 1 Axes>"
            ],
            "image/png": "[encoded data removed]"
          },
          "metadata": {}
        }
      ]
    },
    {
      "cell_type": "code",
      "source": [
        "n_epochs =50\n",
        "t0,t1 = 5,50\n",
        "\n",
        "def learning_schedule(t):\n",
        "  return t0/(t+t1)\n",
        "\n",
        "theta = np.random.randn(2,1)\n",
        "\n",
        "for epoch in range(n_epochs):\n",
        "  for i in range(m):\n",
        "    random_index = np.random.randint(m)\n",
        "    xi = X_b[random_index:random_index+1]\n",
        "    yi = y[random_index:random_index+1]\n",
        "    gardients = 2 * xi.T.dot(xi.dot(theta)-yi)\n",
        "    eta=learning_schedule(epoch*m+i)\n",
        "    theta = theta - eta * gradients\n",
        "    X_new = np.array([[0],[2]])\n",
        "    X_new_b = np.c_[np.ones((2,1)),X_new]\n",
        "    y_predict = X_new_b.dot(theta)\n",
        "    plt.plot(X_new,y_predict,\"r-\")\n",
        "    plt.plot(X,y,\"b.\")\n",
        "    plt.axis([0,2,0,15])\n",
        "plt.show()"
      ],
      "metadata": {
        "id": "sDnXpfQYIkk3",
        "colab": {
          "base_uri": "https://localhost:8080/",
          "height": 430
        },
        "outputId": "cd351ee8-51dc-4b17-dfd6-7a65094eda6f"
      },
      "execution_count": 18,
      "outputs": [
        {
          "output_type": "display_data",
          "data": {
            "text/plain": [
              "<Figure size 640x480 with 1 Axes>"
            ],
            "image/png": "[encoded data removed]"
          },
          "metadata": {}
        }
      ]
    },
    {
      "cell_type": "code",
      "source": [
        "m = 100\n",
        "X = 6 * np.random.rand(m,1)-3\n",
        "y = 0.5 *X**2 + X + 2 +np.random.randn(m,1)\n",
        "plt.plot(X,y,\"b.\")"
      ],
      "metadata": {
        "id": "_vaqZ7Q3Kwxp",
        "colab": {
          "base_uri": "https://localhost:8080/",
          "height": 447
        },
        "outputId": "2ec9e5ea-2104-4a21-a850-ba9caa081c9a"
      },
      "execution_count": 19,
      "outputs": [
        {
          "output_type": "execute_result",
          "data": {
            "text/plain": [
              "[<matplotlib.lines.Line2D at 0x7f4ce217d0f0>]"
            ]
          },
          "metadata": {},
          "execution_count": 19
        },
        {
          "output_type": "display_data",
          "data": {
            "text/plain": [
              "<Figure size 640x480 with 1 Axes>"
            ],
            "image/png": "[encoded data removed]"
          },
          "metadata": {}
        }
      ]
    },
    {
      "cell_type": "code",
      "source": [],
      "metadata": {
        "id": "GlnmV1swLH4T"
      },
      "execution_count": 19,
      "outputs": []
    }
  ]
}