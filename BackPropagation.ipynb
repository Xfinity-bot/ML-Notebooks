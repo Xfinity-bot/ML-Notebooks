{
  "nbformat": 4,
  "nbformat_minor": 0,
  "metadata": {
    "colab": {
      "provenance": [],
      "authorship_tag": "ABX9TyOth+ADosRMa6iKsXRmfKqR",
      "include_colab_link": true
    },
    "kernelspec": {
      "name": "python3",
      "display_name": "Python 3"
    },
    "language_info": {
      "name": "python"
    }
  },
  "cells": [
    {
      "cell_type": "markdown",
      "metadata": {
        "id": "view-in-github",
        "colab_type": "text"
      },
      "source": [
        "<a href=\"https://colab.research.google.com/github/Xfinity-bot/ML-Notebooks/blob/main/BackPropagation.ipynb\" target=\"_parent\"><img src=\"https://colab.research.google.com/assets/colab-badge.svg\" alt=\"Open In Colab\"/></a>"
      ]
    },
    {
      "cell_type": "code",
      "execution_count": 1,
      "metadata": {
        "id": "rgOtkv6hXG4l"
      },
      "outputs": [],
      "source": [
        "import numpy as np\n",
        "X = np.array(([2, 9], [1, 5], [3, 6]), dtype=float)\n",
        "y = np.array(([92], [86], [89]), dtype=float)\n",
        "X = X/np.amax(X, axis=0)\n",
        "y = y / 100\n",
        "def sigmoid(x):\n",
        "    return 1/(1 + np.exp(-x))\n",
        "def derivatives_sigmoid(x):\n",
        "    return x * (1 - x)\n",
        "epoch = 7000\n",
        "learning_rate = 0.1\n",
        "inputlayer_neurons = 2\n",
        "hiddenlayer_neurons = 3\n",
        "outputlayer_neurons = 1\n",
        "# Weight of hidden layer\n",
        "wh = np.random.uniform(size=(inputlayer_neurons, hiddenlayer_neurons))\n",
        "# Bias of hidden layer\n",
        "bh = np.random.uniform(size=(1, hiddenlayer_neurons))\n",
        "# Weight of output layer\n",
        "wo = np.random.uniform(size=(hiddenlayer_neurons, outputlayer_neurons))\n",
        "# Bias of output layer\n",
        "bo = np.random.uniform(size=(1, outputlayer_neurons))\n",
        "# training\n",
        "for i in range(epoch):\n",
        "    # Sum of (input * weights in hidden layer) + bias of hidden\n",
        "    net_h = np.dot(X, wh) + bh\n",
        "    # Apply Activation Function\n",
        "    sigma_h = sigmoid(net_h)\n",
        "    # Input to O/P Layer = (O/P of Hidden Layer * weight of O/P Layer) + bias of O/P layer\n",
        "    net_o = np.dot(sigma_h, wo) + bo\n",
        "    # Apply Activation Function\n",
        "    output = sigmoid(net_o)\n",
        "    \n",
        "    # Finding Deltas (Cost Function Implementation)\n",
        "    # Delta of O/P layer\n",
        "    deltaK = (y - output) * derivatives_sigmoid(output)\n",
        "    # Delta of Hidden Layer\n",
        "    deltaH = deltaK.dot(wo.T) * derivatives_sigmoid(sigma_h)\n",
        "    # Update the weights\n",
        "    wo = wo + sigma_h.T.dot(deltaK) * learning_rate\n",
        "    wh = wh + X.T.dot(deltaH) * learning_rate\n",
        "    \n",
        "    error = sum(deltaK)**2 / len(deltaK)\n",
        "    \n",
        "    #print('Epoch -> {0}, lrate -> {1}, error -> {2}'.format(i, learning_rate, error))"
      ]
    },
    {
      "cell_type": "code",
      "source": [
        "print(\"Input: \\n \" + str(X))"
      ],
      "metadata": {
        "colab": {
          "base_uri": "https://localhost:8080/"
        },
        "id": "8OFw2xDiXeiC",
        "outputId": "bf663ae6-043c-4d7e-9312-410efff59c20"
      },
      "execution_count": 3,
      "outputs": [
        {
          "output_type": "stream",
          "name": "stdout",
          "text": [
            "Input: \n",
            " [[0.66666667 1.        ]\n",
            " [0.33333333 0.55555556]\n",
            " [1.         0.66666667]]\n"
          ]
        }
      ]
    },
    {
      "cell_type": "code",
      "source": [
        "print(\"Actual Output: \\n\" + str(y))"
      ],
      "metadata": {
        "colab": {
          "base_uri": "https://localhost:8080/"
        },
        "id": "TO9dPuJ3Xiog",
        "outputId": "c46e4e2c-f29e-49ff-c4d4-92d1471c0c9e"
      },
      "execution_count": 5,
      "outputs": [
        {
          "output_type": "stream",
          "name": "stdout",
          "text": [
            "Actual Output: \n",
            "[[0.92]\n",
            " [0.86]\n",
            " [0.89]]\n"
          ]
        }
      ]
    },
    {
      "cell_type": "code",
      "source": [
        "print(\"Predicted Output: \\n\", output)"
      ],
      "metadata": {
        "colab": {
          "base_uri": "https://localhost:8080/"
        },
        "id": "ddbLBLtLXqmb",
        "outputId": "4a277bc7-0b83-48c3-c433-c70a10a57b7b"
      },
      "execution_count": 6,
      "outputs": [
        {
          "output_type": "stream",
          "name": "stdout",
          "text": [
            "Predicted Output: \n",
            " [[0.89544987]\n",
            " [0.8803786 ]\n",
            " [0.89374715]]\n"
          ]
        }
      ]
    }
  ]
}